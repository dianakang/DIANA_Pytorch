{
  "nbformat": 4,
  "nbformat_minor": 0,
  "metadata": {
    "colab": {
      "name": "파이토치 입문 필수영상(텐서).ipynb",
      "provenance": [],
      "collapsed_sections": [],
      "authorship_tag": "ABX9TyNElbfcFahxbXdjuBSLBBws",
      "include_colab_link": true
    },
    "kernelspec": {
      "name": "python3",
      "display_name": "Python 3"
    }
  },
  "cells": [
    {
      "cell_type": "markdown",
      "metadata": {
        "id": "view-in-github",
        "colab_type": "text"
      },
      "source": [
        "<a href=\"https://colab.research.google.com/github/dianakang/DIANA_Pytorch/blob/master/%ED%8C%8C%EC%9D%B4%ED%86%A0%EC%B9%98_%EC%9E%85%EB%AC%B8_%ED%95%84%EC%88%98%EC%98%81%EC%83%81(%ED%85%90%EC%84%9C).ipynb\" target=\"_parent\"><img src=\"https://colab.research.google.com/assets/colab-badge.svg\" alt=\"Open In Colab\"/></a>"
      ]
    },
    {
      "cell_type": "markdown",
      "metadata": {
        "id": "THph28Uvx7rc"
      },
      "source": [
        "유튜버 딥러닝호형님의 영상을 참고했습니다.\n",
        "\n",
        "(출처: https://www.youtube.com/watch?v=6SF_qAd99Yg&t=8s)"
      ]
    },
    {
      "cell_type": "markdown",
      "metadata": {
        "id": "zpgqYE9cyMNd"
      },
      "source": [
        "\n",
        "\n",
        "---\n",
        "\n",
        "Pytorch는 내부적인 CUDA API를 통해 GPU연산을 제공한다.\n"
      ]
    },
    {
      "cell_type": "markdown",
      "metadata": {
        "id": "BSVvt-arynea"
      },
      "source": [
        "# 1강. Tensor"
      ]
    },
    {
      "cell_type": "markdown",
      "metadata": {
        "id": "w4XvWT3pyvJU"
      },
      "source": [
        "torch의 tensor는 numpy array와 사용법이 유사하다."
      ]
    },
    {
      "cell_type": "code",
      "metadata": {
        "id": "WmtcON60xuSs"
      },
      "source": [
        "import torch\n",
        "import numpy as np"
      ],
      "execution_count": 1,
      "outputs": []
    },
    {
      "cell_type": "markdown",
      "metadata": {
        "id": "WYngGNfBzBXX"
      },
      "source": [
        "## 1.1. torch메서드 확인"
      ]
    },
    {
      "cell_type": "code",
      "metadata": {
        "colab": {
          "base_uri": "https://localhost:8080/"
        },
        "id": "OizKnYUq5hRC",
        "outputId": "9b57d18f-b292-4717-971e-681539c35544"
      },
      "source": [
        "x = torch.empty(5,4)\n",
        "print(x)"
      ],
      "execution_count": 2,
      "outputs": [
        {
          "output_type": "stream",
          "text": [
            "tensor([[2.0418e-35, 0.0000e+00, 7.0065e-44, 6.8664e-44],\n",
            "        [6.3058e-44, 6.7262e-44, 7.0065e-44, 6.3058e-44],\n",
            "        [7.0065e-44, 7.0065e-44, 1.1771e-43, 6.8664e-44],\n",
            "        [7.1466e-44, 8.1275e-44, 7.2868e-44, 7.4269e-44],\n",
            "        [8.1275e-44, 7.2868e-44, 6.8664e-44, 6.4460e-44]])\n"
          ],
          "name": "stdout"
        }
      ]
    },
    {
      "cell_type": "code",
      "metadata": {
        "colab": {
          "base_uri": "https://localhost:8080/"
        },
        "id": "i8gajDxnzFh9",
        "outputId": "a6e75a3f-80d1-453a-c906-10f966b78724"
      },
      "source": [
        "torch.ones(3,3)"
      ],
      "execution_count": 3,
      "outputs": [
        {
          "output_type": "execute_result",
          "data": {
            "text/plain": [
              "tensor([[1., 1., 1.],\n",
              "        [1., 1., 1.],\n",
              "        [1., 1., 1.]])"
            ]
          },
          "metadata": {
            "tags": []
          },
          "execution_count": 3
        }
      ]
    },
    {
      "cell_type": "code",
      "metadata": {
        "colab": {
          "base_uri": "https://localhost:8080/"
        },
        "id": "stiwZ7fqzKT2",
        "outputId": "5fa707e8-31ee-451a-f051-c68493055d2b"
      },
      "source": [
        "torch.zeros(2)"
      ],
      "execution_count": 4,
      "outputs": [
        {
          "output_type": "execute_result",
          "data": {
            "text/plain": [
              "tensor([0., 0.])"
            ]
          },
          "metadata": {
            "tags": []
          },
          "execution_count": 4
        }
      ]
    },
    {
      "cell_type": "code",
      "metadata": {
        "colab": {
          "base_uri": "https://localhost:8080/"
        },
        "id": "DfOD1VgRzKQ_",
        "outputId": "727a9478-0078-414b-aa37-f2f772acbdf8"
      },
      "source": [
        "torch.rand(5,6)  # random"
      ],
      "execution_count": 5,
      "outputs": [
        {
          "output_type": "execute_result",
          "data": {
            "text/plain": [
              "tensor([[0.8106, 0.5441, 0.2365, 0.1520, 0.5990, 0.4463],\n",
              "        [0.5734, 0.2506, 0.1277, 0.5957, 0.7487, 0.3552],\n",
              "        [0.8942, 0.7181, 0.9107, 0.2778, 0.2304, 0.1866],\n",
              "        [0.9693, 0.4437, 0.6644, 0.2000, 0.3753, 0.8154],\n",
              "        [0.7494, 0.4851, 0.4697, 0.2374, 0.5311, 0.6825]])"
            ]
          },
          "metadata": {
            "tags": []
          },
          "execution_count": 5
        }
      ]
    },
    {
      "cell_type": "code",
      "metadata": {
        "id": "LOD1EZamzVHi"
      },
      "source": [
        "l = [13,4]\n",
        "r = np.array([4,56,7])"
      ],
      "execution_count": 6,
      "outputs": []
    },
    {
      "cell_type": "markdown",
      "metadata": {
        "id": "aEWAiWvX6DhR"
      },
      "source": [
        "## 1.2. numpy -> tensor로 변환"
      ]
    },
    {
      "cell_type": "markdown",
      "metadata": {
        "id": "sVs4YeFyzqUd"
      },
      "source": [
        "파이토치의 기본단위는 텐서이기 때문에 위와 같이 데이터가 list나 array로 되어있을 경우, 텐서로 먼저 변환시켜야함."
      ]
    },
    {
      "cell_type": "code",
      "metadata": {
        "colab": {
          "base_uri": "https://localhost:8080/"
        },
        "id": "0Q8pVbYKzVE8",
        "outputId": "a267dd66-71b2-43eb-aa23-5f76d3cf9940"
      },
      "source": [
        "# tensor로 변환\n",
        "torch.tensor(l)"
      ],
      "execution_count": 7,
      "outputs": [
        {
          "output_type": "execute_result",
          "data": {
            "text/plain": [
              "tensor([13,  4])"
            ]
          },
          "metadata": {
            "tags": []
          },
          "execution_count": 7
        }
      ]
    },
    {
      "cell_type": "code",
      "metadata": {
        "colab": {
          "base_uri": "https://localhost:8080/"
        },
        "id": "c7kGRMmezVB3",
        "outputId": "a5c42e30-79e1-4862-e79b-3769860190ce"
      },
      "source": [
        "# tensor로 변환\n",
        "torch.tensor(r)"
      ],
      "execution_count": 8,
      "outputs": [
        {
          "output_type": "execute_result",
          "data": {
            "text/plain": [
              "tensor([ 4, 56,  7])"
            ]
          },
          "metadata": {
            "tags": []
          },
          "execution_count": 8
        }
      ]
    },
    {
      "cell_type": "code",
      "metadata": {
        "colab": {
          "base_uri": "https://localhost:8080/"
        },
        "id": "ox-XOuqFzKOJ",
        "outputId": "eda04b99-ea45-4d04-e852-42a8c963007d"
      },
      "source": [
        "# 사이즈 확인\n",
        "x.size()"
      ],
      "execution_count": 9,
      "outputs": [
        {
          "output_type": "execute_result",
          "data": {
            "text/plain": [
              "torch.Size([5, 4])"
            ]
          },
          "metadata": {
            "tags": []
          },
          "execution_count": 9
        }
      ]
    },
    {
      "cell_type": "code",
      "metadata": {
        "colab": {
          "base_uri": "https://localhost:8080/"
        },
        "id": "N8rWeCY50Paz",
        "outputId": "eb457cc2-b05d-4948-b9d1-a5727ce3b867"
      },
      "source": [
        "# 타입 확인\n",
        "type(x)"
      ],
      "execution_count": 10,
      "outputs": [
        {
          "output_type": "execute_result",
          "data": {
            "text/plain": [
              "torch.Tensor"
            ]
          },
          "metadata": {
            "tags": []
          },
          "execution_count": 10
        }
      ]
    },
    {
      "cell_type": "code",
      "metadata": {
        "colab": {
          "base_uri": "https://localhost:8080/"
        },
        "id": "npkxHy0f0S5b",
        "outputId": "b0d26214-4177-431d-8eac-6ca6c41fdadb"
      },
      "source": [
        "# 랜덤 텐서 생성\n",
        "x = torch.rand(2,2)\n",
        "y = torch.rand(2,2)\n",
        "print(x)\n",
        "print(y)"
      ],
      "execution_count": 11,
      "outputs": [
        {
          "output_type": "stream",
          "text": [
            "tensor([[0.1006, 0.7239],\n",
            "        [0.4751, 0.0374]])\n",
            "tensor([[0.1539, 0.3906],\n",
            "        [0.3814, 0.6929]])\n"
          ],
          "name": "stdout"
        }
      ]
    },
    {
      "cell_type": "code",
      "metadata": {
        "colab": {
          "base_uri": "https://localhost:8080/"
        },
        "id": "REONijxd0S2d",
        "outputId": "438cb24b-2f13-4a8b-d4c3-ba5d58f0a391"
      },
      "source": [
        "# 기본 연산\n",
        "x + y"
      ],
      "execution_count": 12,
      "outputs": [
        {
          "output_type": "execute_result",
          "data": {
            "text/plain": [
              "tensor([[0.2545, 1.1145],\n",
              "        [0.8565, 0.7303]])"
            ]
          },
          "metadata": {
            "tags": []
          },
          "execution_count": 12
        }
      ]
    },
    {
      "cell_type": "code",
      "metadata": {
        "colab": {
          "base_uri": "https://localhost:8080/"
        },
        "id": "ZTWCCJK60PYf",
        "outputId": "5197db6e-6d63-44a1-c308-c55c62cbad89"
      },
      "source": [
        "# torch.add()메서드 사용 연산\n",
        "torch.add(x,y)"
      ],
      "execution_count": 13,
      "outputs": [
        {
          "output_type": "execute_result",
          "data": {
            "text/plain": [
              "tensor([[0.2545, 1.1145],\n",
              "        [0.8565, 0.7303]])"
            ]
          },
          "metadata": {
            "tags": []
          },
          "execution_count": 13
        }
      ]
    },
    {
      "cell_type": "code",
      "metadata": {
        "colab": {
          "base_uri": "https://localhost:8080/"
        },
        "id": "x7hJOQ1NzKMD",
        "outputId": "31fb47b8-a6a8-4047-a791-364c8adfedbc"
      },
      "source": [
        "y.add(x)  # y에 x를 더한다는 의미"
      ],
      "execution_count": 14,
      "outputs": [
        {
          "output_type": "execute_result",
          "data": {
            "text/plain": [
              "tensor([[0.2545, 1.1145],\n",
              "        [0.8565, 0.7303]])"
            ]
          },
          "metadata": {
            "tags": []
          },
          "execution_count": 14
        }
      ]
    },
    {
      "cell_type": "code",
      "metadata": {
        "colab": {
          "base_uri": "https://localhost:8080/"
        },
        "id": "4Z5HeewK09_2",
        "outputId": "cc93d18b-134d-4054-e450-1eb6b17377ef"
      },
      "source": [
        "# y에 x를 더해서 y를 대체\n",
        "y.add_(x)  # _는 inplace방식 -> 변수를 대체할 때 사용 "
      ],
      "execution_count": 15,
      "outputs": [
        {
          "output_type": "execute_result",
          "data": {
            "text/plain": [
              "tensor([[0.2545, 1.1145],\n",
              "        [0.8565, 0.7303]])"
            ]
          },
          "metadata": {
            "tags": []
          },
          "execution_count": 15
        }
      ]
    },
    {
      "cell_type": "code",
      "metadata": {
        "colab": {
          "base_uri": "https://localhost:8080/"
        },
        "id": "p3OOOJgs099Y",
        "outputId": "aab22a48-9a07-4611-a382-d826f813cad8"
      },
      "source": [
        "# 1행 1열 출력 -> 파이썬에서는 numbering이 0부터 시작한다는 점 잊지않기!\n",
        "y[1,1] "
      ],
      "execution_count": 16,
      "outputs": [
        {
          "output_type": "execute_result",
          "data": {
            "text/plain": [
              "tensor(0.7303)"
            ]
          },
          "metadata": {
            "tags": []
          },
          "execution_count": 16
        }
      ]
    },
    {
      "cell_type": "code",
      "metadata": {
        "colab": {
          "base_uri": "https://localhost:8080/"
        },
        "id": "D_MffFaL097R",
        "outputId": "ce9fa38a-0ea7-41a8-f0ed-41ae92d3335c"
      },
      "source": [
        "# 1열 출력\n",
        "y[:,1]"
      ],
      "execution_count": 17,
      "outputs": [
        {
          "output_type": "execute_result",
          "data": {
            "text/plain": [
              "tensor([1.1145, 0.7303])"
            ]
          },
          "metadata": {
            "tags": []
          },
          "execution_count": 17
        }
      ]
    },
    {
      "cell_type": "code",
      "metadata": {
        "colab": {
          "base_uri": "https://localhost:8080/"
        },
        "id": "stqJoNv617qZ",
        "outputId": "160e2bc4-5433-4bb0-cb66-ff05e44a7d25"
      },
      "source": [
        "x = torch.rand(8,8)\n",
        "print(x)"
      ],
      "execution_count": 18,
      "outputs": [
        {
          "output_type": "stream",
          "text": [
            "tensor([[0.3282, 0.7743, 0.2463, 0.8499, 0.4510, 0.5600, 0.8783, 0.3684],\n",
            "        [0.0285, 0.2635, 0.8370, 0.7187, 0.8084, 0.3509, 0.5492, 0.8664],\n",
            "        [0.9391, 0.9621, 0.8409, 0.5726, 0.0091, 0.6265, 0.3203, 0.0957],\n",
            "        [0.8288, 0.1299, 0.4630, 0.6450, 0.6285, 0.0416, 0.1256, 0.2919],\n",
            "        [0.4112, 0.2209, 0.9879, 0.4961, 0.9679, 0.7821, 0.4833, 0.5200],\n",
            "        [0.6848, 0.8019, 0.4120, 0.1674, 0.7137, 0.8916, 0.3186, 0.7193],\n",
            "        [0.8236, 0.4301, 0.4722, 0.3166, 0.1359, 0.4745, 0.3827, 0.8811],\n",
            "        [0.8258, 0.0684, 0.8431, 0.0508, 0.3629, 0.8167, 0.2033, 0.5721]])\n"
          ],
          "name": "stdout"
        }
      ]
    },
    {
      "cell_type": "code",
      "metadata": {
        "colab": {
          "base_uri": "https://localhost:8080/"
        },
        "id": "edLkQqWM17kM",
        "outputId": "45b0d237-ad83-4ba3-f0ca-f8c41d8f1cca"
      },
      "source": [
        "# 사이즈 변환 - .view() => 열 기준으로 나열 메서드\n",
        "x.view(64)   ## 64를 쓰는 이유 = 8*8이므로"
      ],
      "execution_count": 19,
      "outputs": [
        {
          "output_type": "execute_result",
          "data": {
            "text/plain": [
              "tensor([0.3282, 0.7743, 0.2463, 0.8499, 0.4510, 0.5600, 0.8783, 0.3684, 0.0285,\n",
              "        0.2635, 0.8370, 0.7187, 0.8084, 0.3509, 0.5492, 0.8664, 0.9391, 0.9621,\n",
              "        0.8409, 0.5726, 0.0091, 0.6265, 0.3203, 0.0957, 0.8288, 0.1299, 0.4630,\n",
              "        0.6450, 0.6285, 0.0416, 0.1256, 0.2919, 0.4112, 0.2209, 0.9879, 0.4961,\n",
              "        0.9679, 0.7821, 0.4833, 0.5200, 0.6848, 0.8019, 0.4120, 0.1674, 0.7137,\n",
              "        0.8916, 0.3186, 0.7193, 0.8236, 0.4301, 0.4722, 0.3166, 0.1359, 0.4745,\n",
              "        0.3827, 0.8811, 0.8258, 0.0684, 0.8431, 0.0508, 0.3629, 0.8167, 0.2033,\n",
              "        0.5721])"
            ]
          },
          "metadata": {
            "tags": []
          },
          "execution_count": 19
        }
      ]
    },
    {
      "cell_type": "markdown",
      "metadata": {
        "id": "ceMuwf507ktj"
      },
      "source": [
        ".view()메서드는 CNN에서 컨볼루션 레이어를 연산하다가 마지막단의 fully connected layer를 들어갈 때 정사각형 이미지를 1열로 쭈욱 펴주잖아요. 그때 사용합니다."
      ]
    },
    {
      "cell_type": "code",
      "metadata": {
        "colab": {
          "base_uri": "https://localhost:8080/"
        },
        "id": "Gt3lNGtp17hg",
        "outputId": "3d73231e-cb2f-481a-fed1-f37994b1c39e"
      },
      "source": [
        "x.view(4,16)  # 이렇게 64의 약수 아무거나 넣어서도 변환이 가능하다."
      ],
      "execution_count": 20,
      "outputs": [
        {
          "output_type": "execute_result",
          "data": {
            "text/plain": [
              "tensor([[0.3282, 0.7743, 0.2463, 0.8499, 0.4510, 0.5600, 0.8783, 0.3684, 0.0285,\n",
              "         0.2635, 0.8370, 0.7187, 0.8084, 0.3509, 0.5492, 0.8664],\n",
              "        [0.9391, 0.9621, 0.8409, 0.5726, 0.0091, 0.6265, 0.3203, 0.0957, 0.8288,\n",
              "         0.1299, 0.4630, 0.6450, 0.6285, 0.0416, 0.1256, 0.2919],\n",
              "        [0.4112, 0.2209, 0.9879, 0.4961, 0.9679, 0.7821, 0.4833, 0.5200, 0.6848,\n",
              "         0.8019, 0.4120, 0.1674, 0.7137, 0.8916, 0.3186, 0.7193],\n",
              "        [0.8236, 0.4301, 0.4722, 0.3166, 0.1359, 0.4745, 0.3827, 0.8811, 0.8258,\n",
              "         0.0684, 0.8431, 0.0508, 0.3629, 0.8167, 0.2033, 0.5721]])"
            ]
          },
          "metadata": {
            "tags": []
          },
          "execution_count": 20
        }
      ]
    },
    {
      "cell_type": "markdown",
      "metadata": {
        "id": "mKemERVl25hS"
      },
      "source": [
        "위의 4,16은 64의 약수를 계산해서 넣은 것이지만, 우리는 매번 약수를 이렇게 일일이 계산할 수 없다. \n",
        "\n",
        "이를 해결하기 위해 한쪽에 -1를 넣어 자동으로 약수를 계산하게 해준다."
      ]
    },
    {
      "cell_type": "code",
      "metadata": {
        "colab": {
          "base_uri": "https://localhost:8080/"
        },
        "id": "SrQqfX4k095S",
        "outputId": "126b0cbf-7f1e-4dca-ff63-ea449260a99d"
      },
      "source": [
        "x.view(-1,16)  "
      ],
      "execution_count": 21,
      "outputs": [
        {
          "output_type": "execute_result",
          "data": {
            "text/plain": [
              "tensor([[0.3282, 0.7743, 0.2463, 0.8499, 0.4510, 0.5600, 0.8783, 0.3684, 0.0285,\n",
              "         0.2635, 0.8370, 0.7187, 0.8084, 0.3509, 0.5492, 0.8664],\n",
              "        [0.9391, 0.9621, 0.8409, 0.5726, 0.0091, 0.6265, 0.3203, 0.0957, 0.8288,\n",
              "         0.1299, 0.4630, 0.6450, 0.6285, 0.0416, 0.1256, 0.2919],\n",
              "        [0.4112, 0.2209, 0.9879, 0.4961, 0.9679, 0.7821, 0.4833, 0.5200, 0.6848,\n",
              "         0.8019, 0.4120, 0.1674, 0.7137, 0.8916, 0.3186, 0.7193],\n",
              "        [0.8236, 0.4301, 0.4722, 0.3166, 0.1359, 0.4745, 0.3827, 0.8811, 0.8258,\n",
              "         0.0684, 0.8431, 0.0508, 0.3629, 0.8167, 0.2033, 0.5721]])"
            ]
          },
          "metadata": {
            "tags": []
          },
          "execution_count": 21
        }
      ]
    },
    {
      "cell_type": "markdown",
      "metadata": {
        "id": "6iVbxjrS4Q3D"
      },
      "source": [
        "이러한 원리로 x.view(4,16)와 x.view(-1,16)의 출력값이 같다는 것을 알 수 있다. "
      ]
    },
    {
      "cell_type": "markdown",
      "metadata": {
        "id": "xGsRvSl153j9"
      },
      "source": [
        "## 1.3. tensor -> numpy로 변환"
      ]
    },
    {
      "cell_type": "code",
      "metadata": {
        "colab": {
          "base_uri": "https://localhost:8080/"
        },
        "id": "Ngy6dMJ16IZx",
        "outputId": "dca92e9a-1959-4bb4-a428-febf3e25b278"
      },
      "source": [
        "# .numpy()메서드 이용\n",
        "y = x.numpy()\n",
        "print(y)"
      ],
      "execution_count": 22,
      "outputs": [
        {
          "output_type": "stream",
          "text": [
            "[[0.32818234 0.77433616 0.24625474 0.8499495  0.45101953 0.55997366\n",
            "  0.87831235 0.36835295]\n",
            " [0.02845269 0.263494   0.8369749  0.7186853  0.80841684 0.3509233\n",
            "  0.5491844  0.8664115 ]\n",
            " [0.9391174  0.9620616  0.84094906 0.57257646 0.00911766 0.6265306\n",
            "  0.32031518 0.09565753]\n",
            " [0.82883364 0.12988353 0.46300292 0.645043   0.6284919  0.04161167\n",
            "  0.1255855  0.2918632 ]\n",
            " [0.41124427 0.2209199  0.98793644 0.49605006 0.96788305 0.7821419\n",
            "  0.48333323 0.5199512 ]\n",
            " [0.68476146 0.8018887  0.41197258 0.16741848 0.7137304  0.89159894\n",
            "  0.31860155 0.71930027]\n",
            " [0.8235764  0.43009847 0.47222966 0.31664097 0.13588858 0.4744838\n",
            "  0.38265115 0.8810694 ]\n",
            " [0.82581145 0.06841761 0.84313214 0.0508126  0.36291492 0.81671613\n",
            "  0.20325536 0.5720675 ]]\n"
          ],
          "name": "stdout"
        }
      ]
    },
    {
      "cell_type": "code",
      "metadata": {
        "colab": {
          "base_uri": "https://localhost:8080/"
        },
        "id": "3Om-XJHN6IXq",
        "outputId": "daa56d35-3f5e-460c-fad0-0cf10bebadcb"
      },
      "source": [
        "type(y)"
      ],
      "execution_count": 23,
      "outputs": [
        {
          "output_type": "execute_result",
          "data": {
            "text/plain": [
              "numpy.ndarray"
            ]
          },
          "metadata": {
            "tags": []
          },
          "execution_count": 23
        }
      ]
    },
    {
      "cell_type": "code",
      "metadata": {
        "colab": {
          "base_uri": "https://localhost:8080/"
        },
        "id": "6XEGWqXA6IVb",
        "outputId": "ccc2dda1-ff2e-44a6-8646-7c5a6edec418"
      },
      "source": [
        "x = torch.ones(1)\n",
        "x"
      ],
      "execution_count": 24,
      "outputs": [
        {
          "output_type": "execute_result",
          "data": {
            "text/plain": [
              "tensor([1.])"
            ]
          },
          "metadata": {
            "tags": []
          },
          "execution_count": 24
        }
      ]
    },
    {
      "cell_type": "markdown",
      "metadata": {
        "id": "lWvVdQFG62CF"
      },
      "source": [
        "위의 tensor안의 값을 정수나 실수와 같은 숫자 형태로 불러오고 싶을 때 item을 사용.\n",
        "\n",
        "이는 텐서가 skala일 때, 즉 원소가 한 개일때만 사용이 가능함.\n",
        "\n",
        "주로 loss값을 직접 뽑아내고 싶을 때 많이 사용한다."
      ]
    },
    {
      "cell_type": "code",
      "metadata": {
        "colab": {
          "base_uri": "https://localhost:8080/"
        },
        "id": "8kQ1TcAS6ITW",
        "outputId": "470aa332-1767-4155-e9f8-c62746b988e5"
      },
      "source": [
        "x.item() # 숫자만 뽑아오기"
      ],
      "execution_count": 25,
      "outputs": [
        {
          "output_type": "execute_result",
          "data": {
            "text/plain": [
              "1.0"
            ]
          },
          "metadata": {
            "tags": []
          },
          "execution_count": 25
        }
      ]
    },
    {
      "cell_type": "code",
      "metadata": {
        "id": "D02f74Oe6IRe"
      },
      "source": [
        ""
      ],
      "execution_count": 25,
      "outputs": []
    },
    {
      "cell_type": "code",
      "metadata": {
        "id": "k3_V3NLL6IO4"
      },
      "source": [
        ""
      ],
      "execution_count": 25,
      "outputs": []
    },
    {
      "cell_type": "code",
      "metadata": {
        "id": "uMixuLUh092e"
      },
      "source": [
        ""
      ],
      "execution_count": 25,
      "outputs": []
    }
  ]
}